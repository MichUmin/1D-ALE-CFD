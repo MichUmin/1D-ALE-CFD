{
 "cells": [
  {
   "cell_type": "code",
   "execution_count": 1,
   "id": "15fdf777-31cd-41c5-b349-89186eeb710c",
   "metadata": {},
   "outputs": [],
   "source": [
    "import matplotlib.pyplot as plt\n",
    "import numpy as np"
   ]
  },
  {
   "cell_type": "code",
   "execution_count": 8,
   "id": "d52d603a-33b8-4660-8b39-d3798febaec3",
   "metadata": {},
   "outputs": [
    {
     "data": {
      "image/png": "[encoded data removed]",
      "text/plain": [
       "<Figure size 640x480 with 1 Axes>"
      ]
     },
     "metadata": {},
     "output_type": "display_data"
    }
   ],
   "source": [
    "num_main_cells = 100\n",
    "space_order = 2\n",
    "time_order = 2\n",
    "num_ghost_cells_per_side = space_order + time_order\n",
    "total_num_cells = num_main_cells + 2*num_ghost_cells_per_side\n",
    "total_num_nodes = total_num_cells + 1\n",
    "gamma = 1.4\n",
    "\n",
    "node_position = np.zeros(total_num_nodes)\n",
    "cell_centre = np.zeros(total_num_cells)\n",
    "rho = np.zeros(total_num_cells)\n",
    "rhoV = np.zeros(total_num_cells)\n",
    "E = np.zeros(total_num_cells)\n",
    "V = np.zeros(total_num_cells)\n",
    "epsilon = np.zeros(total_num_cells)\n",
    "p = np.zeros(total_num_cells)\n",
    "\n",
    "file_name = \"OutputEuler2.dat\"\n",
    "file = open(file_name, 'r')\n",
    "file.readline()\n",
    "data = file.readline().split(\" \")\n",
    "for i in range(total_num_nodes):\n",
    "    node_position[i] = float(data[i])\n",
    "for i in range(total_num_cells):\n",
    "    cell_centre[i] = 0.5*(node_position[i]+node_position[i+1])\n",
    "file.readline()\n",
    "data = file.readline().split(\" \")\n",
    "for i in range(total_num_cells):\n",
    "    rho[i] = float(data[i])\n",
    "file.readline()\n",
    "data = file.readline().split(\" \")\n",
    "for i in range(total_num_cells):\n",
    "    rhoV[i] = float(data[i])\n",
    "    V[i] = rhoV[i]/rho[i]\n",
    "file.readline()\n",
    "data = file.readline().split(\" \")\n",
    "for i in range(total_num_cells):\n",
    "    E[i] = float(data[i])\n",
    "    p[i] = (gamma - 1.0)*(E[i] - 0.5*rho[i]*V[i]*V[i])\n",
    "    epsilon[i] = (E[i] - 0.5*rho[i]*V[i]*V[i]) / rho[i]\n",
    "file.close()\n",
    "\n",
    "space_order = 2\n",
    "num_ghost_cells_per_side = space_order + time_order\n",
    "total_num_cells = num_main_cells + 2*num_ghost_cells_per_side\n",
    "total_num_nodes = total_num_cells + 1\n",
    "\n",
    "node_position2 = np.zeros(total_num_nodes)\n",
    "cell_centre2 = np.zeros(total_num_cells)\n",
    "rho2 = np.zeros(total_num_cells)\n",
    "rhoV2 = np.zeros(total_num_cells)\n",
    "E2 = np.zeros(total_num_cells)\n",
    "V2 = np.zeros(total_num_cells)\n",
    "epsilon2 = np.zeros(total_num_cells)\n",
    "p2 = np.zeros(total_num_cells)\n",
    "\n",
    "file_name = \"OutputEulerLimiter.dat\"\n",
    "file = open(file_name, 'r')\n",
    "file.readline()\n",
    "data = file.readline().split(\" \")\n",
    "for i in range(total_num_nodes):\n",
    "    node_position2[i] = float(data[i])\n",
    "for i in range(total_num_cells):\n",
    "    cell_centre2[i] = 0.5*(node_position2[i]+node_position2[i+1])\n",
    "file.readline()\n",
    "data = file.readline().split(\" \")\n",
    "for i in range(total_num_cells):\n",
    "    rho2[i] = float(data[i])\n",
    "file.readline()\n",
    "data = file.readline().split(\" \")\n",
    "for i in range(total_num_cells):\n",
    "    rhoV2[i] = float(data[i])\n",
    "    V2[i] = rhoV2[i]/rho2[i]\n",
    "file.readline()\n",
    "data = file.readline().split(\" \")\n",
    "for i in range(total_num_cells):\n",
    "    E2[i] = float(data[i])\n",
    "    p2[i] = (gamma - 1.0)*(E2[i] - 0.5*rho2[i]*V2[i]*V2[i])\n",
    "    epsilon2[i] = (E2[i] - 0.5*rho2[i]*V2[i]*V2[i]) / rho2[i]\n",
    "file.close()\n",
    "\n",
    "#print(rho)\n",
    "plt.plot(cell_centre, rho, color = 'red')\n",
    "plt.plot(cell_centre2, rho2, color = 'blue')\n",
    "plt.xlim(0.0, 1.0)\n",
    "plt.show()"
   ]
  },
  {
   "cell_type": "code",
   "execution_count": null,
   "id": "95321f68-5409-4437-9e52-eea5bb620eb1",
   "metadata": {},
   "outputs": [],
   "source": []
  }
 ],
 "metadata": {
  "kernelspec": {
   "display_name": "Python 3 (ipykernel)",
   "language": "python",
   "name": "python3"
  },
  "language_info": {
   "codemirror_mode": {
    "name": "ipython",
    "version": 3
   },
   "file_extension": ".py",
   "mimetype": "text/x-python",
   "name": "python",
   "nbconvert_exporter": "python",
   "pygments_lexer": "ipython3",
   "version": "3.9.6"
  }
 },
 "nbformat": 4,
 "nbformat_minor": 5
}
